{
 "cells": [
  {
   "cell_type": "raw",
   "id": "273a67b4-07e3-40ac-83cd-8c8f39948189",
   "metadata": {},
   "source": [
    "1.Time-dependent seasonal components:\n",
    "Time-dependent seasonal components refer to seasonal patterns in time series data that change over time. Unlike static seasonal patterns that remain constant, time-dependent seasonal components evolve or vary with time, reflecting changes in seasonality patterns over different periods."
   ]
  },
  {
   "cell_type": "raw",
   "id": "5c51a67f-6127-47c5-b842-9d96fcb5997a",
   "metadata": {},
   "source": [
    "2.Identification of time-dependent seasonal components:\n",
    "Time-dependent seasonal components can be identified through visual inspection of time series plots, decomposition techniques like seasonal decomposition of time series (STL), or by using statistical tests to detect changes in seasonal patterns over time."
   ]
  }
 ],
 "metadata": {
  "kernelspec": {
   "display_name": "Python 3 (ipykernel)",
   "language": "python",
   "name": "python3"
  },
  "language_info": {
   "codemirror_mode": {
    "name": "ipython",
    "version": 3
   },
   "file_extension": ".py",
   "mimetype": "text/x-python",
   "name": "python",
   "nbconvert_exporter": "python",
   "pygments_lexer": "ipython3",
   "version": "3.10.8"
  }
 },
 "nbformat": 4,
 "nbformat_minor": 5
}
